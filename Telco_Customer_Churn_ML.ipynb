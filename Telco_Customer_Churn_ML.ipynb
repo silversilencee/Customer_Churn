{
  "nbformat": 4,
  "nbformat_minor": 0,
  "metadata": {
    "colab": {
      "provenance": [],
      "include_colab_link": true
    },
    "kernelspec": {
      "name": "python3",
      "display_name": "Python 3"
    },
    "language_info": {
      "name": "python"
    }
  },
  "cells": [
    {
      "cell_type": "markdown",
      "metadata": {
        "id": "view-in-github",
        "colab_type": "text"
      },
      "source": [
        "<a href=\"https://colab.research.google.com/github/silversilencee/Customer_Churn/blob/main/Telco_Customer_Churn_ML.ipynb\" target=\"_parent\"><img src=\"https://colab.research.google.com/assets/colab-badge.svg\" alt=\"Open In Colab\"/></a>"
      ]
    },
    {
      "cell_type": "markdown",
      "source": [
        "# **Importing all required libraries**"
      ],
      "metadata": {
        "id": "tZisvS43Kv_q"
      }
    },
    {
      "cell_type": "code",
      "source": [
        "import pandas as pd\n",
        "from sklearn import metrics\n",
        "from sklearn.model_selection import train_test_split\n",
        "\n",
        "from sklearn.tree import DecisionTreeClassifier\n",
        "from sklearn.ensemble import RandomForestClassifier\n",
        "from sklearn.naive_bayes import GaussianNB\n",
        "from sklearn.neighbors import KNeighborsClassifier\n",
        "from sklearn.svm import SVC\n",
        "from sklearn.linear_model import LogisticRegression\n",
        "\n",
        "\n",
        "from sklearn.metrics import classification_report\n",
        "from imblearn.combine import SMOTEENN\n",
        "import pickle"
      ],
      "metadata": {
        "id": "CkwP74uw7pTC"
      },
      "execution_count": null,
      "outputs": []
    },
    {
      "cell_type": "markdown",
      "source": [
        "# **Importing the dataset**"
      ],
      "metadata": {
        "id": "YwUc5hRrK7Nm"
      }
    },
    {
      "cell_type": "code",
      "source": [
        "df = pd.read_csv('telecom_churn.csv')\n",
        "df.head(20)"
      ],
      "metadata": {
        "id": "ULjgd_7sCDtr",
        "colab": {
          "base_uri": "https://localhost:8080/",
          "height": 741
        },
        "outputId": "dbef8f62-eac6-4721-bc07-ae5ecbe11834"
      },
      "execution_count": null,
      "outputs": [
        {
          "output_type": "execute_result",
          "data": {
            "text/plain": [
              "    Churn  AccountWeeks  ContractRenewal  DataPlan  DataUsage  CustServCalls  \\\n",
              "0       0           128                1         1       2.70              1   \n",
              "1       0           107                1         1       3.70              1   \n",
              "2       0           137                1         0       0.00              0   \n",
              "3       0            84                0         0       0.00              2   \n",
              "4       0            75                0         0       0.00              3   \n",
              "5       0           118                0         0       0.00              0   \n",
              "6       0           121                1         1       2.03              3   \n",
              "7       0           147                0         0       0.00              0   \n",
              "8       0           117                1         0       0.19              1   \n",
              "9       0           141                0         1       3.02              0   \n",
              "10      1            65                1         0       0.29              4   \n",
              "11      0            74                1         0       0.34              0   \n",
              "12      0           168                1         0       0.00              1   \n",
              "13      0            95                1         0       0.44              3   \n",
              "14      0            62                1         0       0.00              4   \n",
              "15      1           161                1         0       0.00              4   \n",
              "16      0            85                1         1       3.73              1   \n",
              "17      0            93                1         0       0.00              3   \n",
              "18      0            76                1         1       2.70              1   \n",
              "19      0            73                1         0       0.00              1   \n",
              "\n",
              "    DayMins  DayCalls  MonthlyCharge  OverageFee  RoamMins  \n",
              "0     265.1       110           89.0        9.87      10.0  \n",
              "1     161.6       123           82.0        9.78      13.7  \n",
              "2     243.4       114           52.0        6.06      12.2  \n",
              "3     299.4        71           57.0        3.10       6.6  \n",
              "4     166.7       113           41.0        7.42      10.1  \n",
              "5     223.4        98           57.0       11.03       6.3  \n",
              "6     218.2        88           87.3       17.43       7.5  \n",
              "7     157.0        79           36.0        5.16       7.1  \n",
              "8     184.5        97           63.9       17.58       8.7  \n",
              "9     258.6        84           93.2       11.10      11.2  \n",
              "10    129.1       137           44.9       11.43      12.7  \n",
              "11    187.7       127           49.4        8.17       9.1  \n",
              "12    128.8        96           31.0        5.25      11.2  \n",
              "13    156.6        88           52.4       12.38      12.3  \n",
              "14    120.7        70           47.0       15.36      13.1  \n",
              "15    332.9        67           84.0       15.89       5.4  \n",
              "16    196.4       139           95.3       14.05      13.8  \n",
              "17    190.7       114           51.0       10.91       8.1  \n",
              "18    189.7        66           78.0       10.64      10.0  \n",
              "19    224.4        90           52.0        7.98      13.0  "
            ],
            "text/html": [
              "\n",
              "  <div id=\"df-2fc4aca5-26b8-48a6-93ac-cf8c3dac5205\">\n",
              "    <div class=\"colab-df-container\">\n",
              "      <div>\n",
              "<style scoped>\n",
              "    .dataframe tbody tr th:only-of-type {\n",
              "        vertical-align: middle;\n",
              "    }\n",
              "\n",
              "    .dataframe tbody tr th {\n",
              "        vertical-align: top;\n",
              "    }\n",
              "\n",
              "    .dataframe thead th {\n",
              "        text-align: right;\n",
              "    }\n",
              "</style>\n",
              "<table border=\"1\" class=\"dataframe\">\n",
              "  <thead>\n",
              "    <tr style=\"text-align: right;\">\n",
              "      <th></th>\n",
              "      <th>Churn</th>\n",
              "      <th>AccountWeeks</th>\n",
              "      <th>ContractRenewal</th>\n",
              "      <th>DataPlan</th>\n",
              "      <th>DataUsage</th>\n",
              "      <th>CustServCalls</th>\n",
              "      <th>DayMins</th>\n",
              "      <th>DayCalls</th>\n",
              "      <th>MonthlyCharge</th>\n",
              "      <th>OverageFee</th>\n",
              "      <th>RoamMins</th>\n",
              "    </tr>\n",
              "  </thead>\n",
              "  <tbody>\n",
              "    <tr>\n",
              "      <th>0</th>\n",
              "      <td>0</td>\n",
              "      <td>128</td>\n",
              "      <td>1</td>\n",
              "      <td>1</td>\n",
              "      <td>2.70</td>\n",
              "      <td>1</td>\n",
              "      <td>265.1</td>\n",
              "      <td>110</td>\n",
              "      <td>89.0</td>\n",
              "      <td>9.87</td>\n",
              "      <td>10.0</td>\n",
              "    </tr>\n",
              "    <tr>\n",
              "      <th>1</th>\n",
              "      <td>0</td>\n",
              "      <td>107</td>\n",
              "      <td>1</td>\n",
              "      <td>1</td>\n",
              "      <td>3.70</td>\n",
              "      <td>1</td>\n",
              "      <td>161.6</td>\n",
              "      <td>123</td>\n",
              "      <td>82.0</td>\n",
              "      <td>9.78</td>\n",
              "      <td>13.7</td>\n",
              "    </tr>\n",
              "    <tr>\n",
              "      <th>2</th>\n",
              "      <td>0</td>\n",
              "      <td>137</td>\n",
              "      <td>1</td>\n",
              "      <td>0</td>\n",
              "      <td>0.00</td>\n",
              "      <td>0</td>\n",
              "      <td>243.4</td>\n",
              "      <td>114</td>\n",
              "      <td>52.0</td>\n",
              "      <td>6.06</td>\n",
              "      <td>12.2</td>\n",
              "    </tr>\n",
              "    <tr>\n",
              "      <th>3</th>\n",
              "      <td>0</td>\n",
              "      <td>84</td>\n",
              "      <td>0</td>\n",
              "      <td>0</td>\n",
              "      <td>0.00</td>\n",
              "      <td>2</td>\n",
              "      <td>299.4</td>\n",
              "      <td>71</td>\n",
              "      <td>57.0</td>\n",
              "      <td>3.10</td>\n",
              "      <td>6.6</td>\n",
              "    </tr>\n",
              "    <tr>\n",
              "      <th>4</th>\n",
              "      <td>0</td>\n",
              "      <td>75</td>\n",
              "      <td>0</td>\n",
              "      <td>0</td>\n",
              "      <td>0.00</td>\n",
              "      <td>3</td>\n",
              "      <td>166.7</td>\n",
              "      <td>113</td>\n",
              "      <td>41.0</td>\n",
              "      <td>7.42</td>\n",
              "      <td>10.1</td>\n",
              "    </tr>\n",
              "    <tr>\n",
              "      <th>5</th>\n",
              "      <td>0</td>\n",
              "      <td>118</td>\n",
              "      <td>0</td>\n",
              "      <td>0</td>\n",
              "      <td>0.00</td>\n",
              "      <td>0</td>\n",
              "      <td>223.4</td>\n",
              "      <td>98</td>\n",
              "      <td>57.0</td>\n",
              "      <td>11.03</td>\n",
              "      <td>6.3</td>\n",
              "    </tr>\n",
              "    <tr>\n",
              "      <th>6</th>\n",
              "      <td>0</td>\n",
              "      <td>121</td>\n",
              "      <td>1</td>\n",
              "      <td>1</td>\n",
              "      <td>2.03</td>\n",
              "      <td>3</td>\n",
              "      <td>218.2</td>\n",
              "      <td>88</td>\n",
              "      <td>87.3</td>\n",
              "      <td>17.43</td>\n",
              "      <td>7.5</td>\n",
              "    </tr>\n",
              "    <tr>\n",
              "      <th>7</th>\n",
              "      <td>0</td>\n",
              "      <td>147</td>\n",
              "      <td>0</td>\n",
              "      <td>0</td>\n",
              "      <td>0.00</td>\n",
              "      <td>0</td>\n",
              "      <td>157.0</td>\n",
              "      <td>79</td>\n",
              "      <td>36.0</td>\n",
              "      <td>5.16</td>\n",
              "      <td>7.1</td>\n",
              "    </tr>\n",
              "    <tr>\n",
              "      <th>8</th>\n",
              "      <td>0</td>\n",
              "      <td>117</td>\n",
              "      <td>1</td>\n",
              "      <td>0</td>\n",
              "      <td>0.19</td>\n",
              "      <td>1</td>\n",
              "      <td>184.5</td>\n",
              "      <td>97</td>\n",
              "      <td>63.9</td>\n",
              "      <td>17.58</td>\n",
              "      <td>8.7</td>\n",
              "    </tr>\n",
              "    <tr>\n",
              "      <th>9</th>\n",
              "      <td>0</td>\n",
              "      <td>141</td>\n",
              "      <td>0</td>\n",
              "      <td>1</td>\n",
              "      <td>3.02</td>\n",
              "      <td>0</td>\n",
              "      <td>258.6</td>\n",
              "      <td>84</td>\n",
              "      <td>93.2</td>\n",
              "      <td>11.10</td>\n",
              "      <td>11.2</td>\n",
              "    </tr>\n",
              "    <tr>\n",
              "      <th>10</th>\n",
              "      <td>1</td>\n",
              "      <td>65</td>\n",
              "      <td>1</td>\n",
              "      <td>0</td>\n",
              "      <td>0.29</td>\n",
              "      <td>4</td>\n",
              "      <td>129.1</td>\n",
              "      <td>137</td>\n",
              "      <td>44.9</td>\n",
              "      <td>11.43</td>\n",
              "      <td>12.7</td>\n",
              "    </tr>\n",
              "    <tr>\n",
              "      <th>11</th>\n",
              "      <td>0</td>\n",
              "      <td>74</td>\n",
              "      <td>1</td>\n",
              "      <td>0</td>\n",
              "      <td>0.34</td>\n",
              "      <td>0</td>\n",
              "      <td>187.7</td>\n",
              "      <td>127</td>\n",
              "      <td>49.4</td>\n",
              "      <td>8.17</td>\n",
              "      <td>9.1</td>\n",
              "    </tr>\n",
              "    <tr>\n",
              "      <th>12</th>\n",
              "      <td>0</td>\n",
              "      <td>168</td>\n",
              "      <td>1</td>\n",
              "      <td>0</td>\n",
              "      <td>0.00</td>\n",
              "      <td>1</td>\n",
              "      <td>128.8</td>\n",
              "      <td>96</td>\n",
              "      <td>31.0</td>\n",
              "      <td>5.25</td>\n",
              "      <td>11.2</td>\n",
              "    </tr>\n",
              "    <tr>\n",
              "      <th>13</th>\n",
              "      <td>0</td>\n",
              "      <td>95</td>\n",
              "      <td>1</td>\n",
              "      <td>0</td>\n",
              "      <td>0.44</td>\n",
              "      <td>3</td>\n",
              "      <td>156.6</td>\n",
              "      <td>88</td>\n",
              "      <td>52.4</td>\n",
              "      <td>12.38</td>\n",
              "      <td>12.3</td>\n",
              "    </tr>\n",
              "    <tr>\n",
              "      <th>14</th>\n",
              "      <td>0</td>\n",
              "      <td>62</td>\n",
              "      <td>1</td>\n",
              "      <td>0</td>\n",
              "      <td>0.00</td>\n",
              "      <td>4</td>\n",
              "      <td>120.7</td>\n",
              "      <td>70</td>\n",
              "      <td>47.0</td>\n",
              "      <td>15.36</td>\n",
              "      <td>13.1</td>\n",
              "    </tr>\n",
              "    <tr>\n",
              "      <th>15</th>\n",
              "      <td>1</td>\n",
              "      <td>161</td>\n",
              "      <td>1</td>\n",
              "      <td>0</td>\n",
              "      <td>0.00</td>\n",
              "      <td>4</td>\n",
              "      <td>332.9</td>\n",
              "      <td>67</td>\n",
              "      <td>84.0</td>\n",
              "      <td>15.89</td>\n",
              "      <td>5.4</td>\n",
              "    </tr>\n",
              "    <tr>\n",
              "      <th>16</th>\n",
              "      <td>0</td>\n",
              "      <td>85</td>\n",
              "      <td>1</td>\n",
              "      <td>1</td>\n",
              "      <td>3.73</td>\n",
              "      <td>1</td>\n",
              "      <td>196.4</td>\n",
              "      <td>139</td>\n",
              "      <td>95.3</td>\n",
              "      <td>14.05</td>\n",
              "      <td>13.8</td>\n",
              "    </tr>\n",
              "    <tr>\n",
              "      <th>17</th>\n",
              "      <td>0</td>\n",
              "      <td>93</td>\n",
              "      <td>1</td>\n",
              "      <td>0</td>\n",
              "      <td>0.00</td>\n",
              "      <td>3</td>\n",
              "      <td>190.7</td>\n",
              "      <td>114</td>\n",
              "      <td>51.0</td>\n",
              "      <td>10.91</td>\n",
              "      <td>8.1</td>\n",
              "    </tr>\n",
              "    <tr>\n",
              "      <th>18</th>\n",
              "      <td>0</td>\n",
              "      <td>76</td>\n",
              "      <td>1</td>\n",
              "      <td>1</td>\n",
              "      <td>2.70</td>\n",
              "      <td>1</td>\n",
              "      <td>189.7</td>\n",
              "      <td>66</td>\n",
              "      <td>78.0</td>\n",
              "      <td>10.64</td>\n",
              "      <td>10.0</td>\n",
              "    </tr>\n",
              "    <tr>\n",
              "      <th>19</th>\n",
              "      <td>0</td>\n",
              "      <td>73</td>\n",
              "      <td>1</td>\n",
              "      <td>0</td>\n",
              "      <td>0.00</td>\n",
              "      <td>1</td>\n",
              "      <td>224.4</td>\n",
              "      <td>90</td>\n",
              "      <td>52.0</td>\n",
              "      <td>7.98</td>\n",
              "      <td>13.0</td>\n",
              "    </tr>\n",
              "  </tbody>\n",
              "</table>\n",
              "</div>\n",
              "      <button class=\"colab-df-convert\" onclick=\"convertToInteractive('df-2fc4aca5-26b8-48a6-93ac-cf8c3dac5205')\"\n",
              "              title=\"Convert this dataframe to an interactive table.\"\n",
              "              style=\"display:none;\">\n",
              "        \n",
              "  <svg xmlns=\"http://www.w3.org/2000/svg\" height=\"24px\"viewBox=\"0 0 24 24\"\n",
              "       width=\"24px\">\n",
              "    <path d=\"M0 0h24v24H0V0z\" fill=\"none\"/>\n",
              "    <path d=\"M18.56 5.44l.94 2.06.94-2.06 2.06-.94-2.06-.94-.94-2.06-.94 2.06-2.06.94zm-11 1L8.5 8.5l.94-2.06 2.06-.94-2.06-.94L8.5 2.5l-.94 2.06-2.06.94zm10 10l.94 2.06.94-2.06 2.06-.94-2.06-.94-.94-2.06-.94 2.06-2.06.94z\"/><path d=\"M17.41 7.96l-1.37-1.37c-.4-.4-.92-.59-1.43-.59-.52 0-1.04.2-1.43.59L10.3 9.45l-7.72 7.72c-.78.78-.78 2.05 0 2.83L4 21.41c.39.39.9.59 1.41.59.51 0 1.02-.2 1.41-.59l7.78-7.78 2.81-2.81c.8-.78.8-2.07 0-2.86zM5.41 20L4 18.59l7.72-7.72 1.47 1.35L5.41 20z\"/>\n",
              "  </svg>\n",
              "      </button>\n",
              "      \n",
              "  <style>\n",
              "    .colab-df-container {\n",
              "      display:flex;\n",
              "      flex-wrap:wrap;\n",
              "      gap: 12px;\n",
              "    }\n",
              "\n",
              "    .colab-df-convert {\n",
              "      background-color: #E8F0FE;\n",
              "      border: none;\n",
              "      border-radius: 50%;\n",
              "      cursor: pointer;\n",
              "      display: none;\n",
              "      fill: #1967D2;\n",
              "      height: 32px;\n",
              "      padding: 0 0 0 0;\n",
              "      width: 32px;\n",
              "    }\n",
              "\n",
              "    .colab-df-convert:hover {\n",
              "      background-color: #E2EBFA;\n",
              "      box-shadow: 0px 1px 2px rgba(60, 64, 67, 0.3), 0px 1px 3px 1px rgba(60, 64, 67, 0.15);\n",
              "      fill: #174EA6;\n",
              "    }\n",
              "\n",
              "    [theme=dark] .colab-df-convert {\n",
              "      background-color: #3B4455;\n",
              "      fill: #D2E3FC;\n",
              "    }\n",
              "\n",
              "    [theme=dark] .colab-df-convert:hover {\n",
              "      background-color: #434B5C;\n",
              "      box-shadow: 0px 1px 3px 1px rgba(0, 0, 0, 0.15);\n",
              "      filter: drop-shadow(0px 1px 2px rgba(0, 0, 0, 0.3));\n",
              "      fill: #FFFFFF;\n",
              "    }\n",
              "  </style>\n",
              "\n",
              "      <script>\n",
              "        const buttonEl =\n",
              "          document.querySelector('#df-2fc4aca5-26b8-48a6-93ac-cf8c3dac5205 button.colab-df-convert');\n",
              "        buttonEl.style.display =\n",
              "          google.colab.kernel.accessAllowed ? 'block' : 'none';\n",
              "\n",
              "        async function convertToInteractive(key) {\n",
              "          const element = document.querySelector('#df-2fc4aca5-26b8-48a6-93ac-cf8c3dac5205');\n",
              "          const dataTable =\n",
              "            await google.colab.kernel.invokeFunction('convertToInteractive',\n",
              "                                                     [key], {});\n",
              "          if (!dataTable) return;\n",
              "\n",
              "          const docLinkHtml = 'Like what you see? Visit the ' +\n",
              "            '<a target=\"_blank\" href=https://colab.research.google.com/notebooks/data_table.ipynb>data table notebook</a>'\n",
              "            + ' to learn more about interactive tables.';\n",
              "          element.innerHTML = '';\n",
              "          dataTable['output_type'] = 'display_data';\n",
              "          await google.colab.output.renderOutput(dataTable, element);\n",
              "          const docLink = document.createElement('div');\n",
              "          docLink.innerHTML = docLinkHtml;\n",
              "          element.appendChild(docLink);\n",
              "        }\n",
              "      </script>\n",
              "    </div>\n",
              "  </div>\n",
              "  "
            ]
          },
          "metadata": {},
          "execution_count": 2
        }
      ]
    },
    {
      "cell_type": "markdown",
      "source": [
        "# **Creating the x and y variables to train the model**"
      ],
      "metadata": {
        "id": "piWv-LsILD5V"
      }
    },
    {
      "cell_type": "markdown",
      "source": [
        "Now we select\n",
        "*  **x = we get all the columns**\n",
        "*  **y = churn**\n",
        "then split the data set as *training* and *testing* dataset "
      ],
      "metadata": {
        "id": "IzLN4F1CvaRJ"
      }
    },
    {
      "cell_type": "code",
      "source": [
        "x = df.iloc[:,1:11]\n",
        "y = df.iloc[:,[0]]\n",
        "\n",
        "x_train, x_test, y_train, y_test = train_test_split(x, y, test_size=0.2)"
      ],
      "metadata": {
        "id": "bvBE7W_dCdux"
      },
      "execution_count": null,
      "outputs": []
    },
    {
      "cell_type": "markdown",
      "source": [
        "# **Decision Tree Classifier**"
      ],
      "metadata": {
        "id": "A4x3J0iiLMmW"
      }
    },
    {
      "cell_type": "code",
      "source": [
        "dt = DecisionTreeClassifier()\n",
        "dt.fit(x_train,y_train)\n",
        "y_pred = dt.predict(x_test)"
      ],
      "metadata": {
        "id": "oRtcjJ8hFvfj"
      },
      "execution_count": null,
      "outputs": []
    },
    {
      "cell_type": "code",
      "source": [
        "dt.score(x_test,y_test)"
      ],
      "metadata": {
        "id": "FyKOZhEoGvoO",
        "colab": {
          "base_uri": "https://localhost:8080/"
        },
        "outputId": "1716d1dd-7868-43e4-8705-ae7d7bd8f6c0"
      },
      "execution_count": null,
      "outputs": [
        {
          "output_type": "execute_result",
          "data": {
            "text/plain": [
              "0.8875562218890555"
            ]
          },
          "metadata": {},
          "execution_count": 5
        }
      ]
    },
    {
      "cell_type": "code",
      "source": [
        "print(classification_report(y_test, y_pred))"
      ],
      "metadata": {
        "id": "i3OVvLaBHHn4",
        "colab": {
          "base_uri": "https://localhost:8080/"
        },
        "outputId": "c84b55af-5be5-44a5-e42f-18d2801ffc25"
      },
      "execution_count": null,
      "outputs": [
        {
          "output_type": "stream",
          "name": "stdout",
          "text": [
            "              precision    recall  f1-score   support\n",
            "\n",
            "           0       0.94      0.93      0.93       566\n",
            "           1       0.62      0.67      0.64       101\n",
            "\n",
            "    accuracy                           0.89       667\n",
            "   macro avg       0.78      0.80      0.79       667\n",
            "weighted avg       0.89      0.89      0.89       667\n",
            "\n"
          ]
        }
      ]
    },
    {
      "cell_type": "markdown",
      "source": [
        "Since there is less data we get poor score in order to increase the accuracy we use smoteen to over-sample the data or upscale the data."
      ],
      "metadata": {
        "id": "xhiuA8sUwUeI"
      }
    },
    {
      "cell_type": "code",
      "source": [
        "sm = SMOTEENN()\n",
        "x_resampled, y_resampled = sm.fit_resample(x,y)\n",
        "\n",
        "xr_train,xr_test,yr_train,yr_test=train_test_split(x_resampled, y_resampled,test_size=0.2)\n",
        "\n",
        "dts = DecisionTreeClassifier()\n",
        "dts.fit(xr_train,yr_train)\n",
        "yr_pred = dts.predict(xr_test)"
      ],
      "metadata": {
        "id": "FydeT8wRIC3D"
      },
      "execution_count": null,
      "outputs": []
    },
    {
      "cell_type": "code",
      "source": [
        "dts.score(xr_test,yr_test)"
      ],
      "metadata": {
        "id": "BgKS_RTdIlpo",
        "colab": {
          "base_uri": "https://localhost:8080/"
        },
        "outputId": "e92b8689-5772-4d80-c284-58fb7d029e7a"
      },
      "execution_count": null,
      "outputs": [
        {
          "output_type": "execute_result",
          "data": {
            "text/plain": [
              "0.8947368421052632"
            ]
          },
          "metadata": {},
          "execution_count": 8
        }
      ]
    },
    {
      "cell_type": "code",
      "source": [
        "print(classification_report(yr_test, yr_pred))"
      ],
      "metadata": {
        "id": "vMbT94HvItXE",
        "colab": {
          "base_uri": "https://localhost:8080/"
        },
        "outputId": "f2f80c4a-29ce-4471-c654-1b28e7d3f672"
      },
      "execution_count": null,
      "outputs": [
        {
          "output_type": "stream",
          "name": "stdout",
          "text": [
            "              precision    recall  f1-score   support\n",
            "\n",
            "           0       0.88      0.86      0.87       345\n",
            "           1       0.90      0.92      0.91       491\n",
            "\n",
            "    accuracy                           0.89       836\n",
            "   macro avg       0.89      0.89      0.89       836\n",
            "weighted avg       0.89      0.89      0.89       836\n",
            "\n"
          ]
        }
      ]
    },
    {
      "cell_type": "markdown",
      "source": [
        "We save the model as a pickle file."
      ],
      "metadata": {
        "id": "CsNqC_TLxsyv"
      }
    },
    {
      "cell_type": "code",
      "source": [
        "filename = 'decisiontree_sm.sav'\n",
        "pickle.dump(dts, open(filename, 'wb'))"
      ],
      "metadata": {
        "id": "Ii3GaMBkJOJy"
      },
      "execution_count": null,
      "outputs": []
    },
    {
      "cell_type": "markdown",
      "source": [
        "# **Random Forest Classifier**"
      ],
      "metadata": {
        "id": "zz2S9HtiLTZg"
      }
    },
    {
      "cell_type": "code",
      "source": [
        "rf = RandomForestClassifier()\n",
        "rf.fit(x_train,y_train)\n",
        "y_pred = rf.predict(x_test)"
      ],
      "metadata": {
        "id": "toykDYfpJmLg",
        "colab": {
          "base_uri": "https://localhost:8080/"
        },
        "outputId": "19f06879-89d9-45a9-dc06-6bb988ee092c"
      },
      "execution_count": null,
      "outputs": [
        {
          "output_type": "stream",
          "name": "stderr",
          "text": [
            "/usr/local/lib/python3.7/dist-packages/ipykernel_launcher.py:2: DataConversionWarning: A column-vector y was passed when a 1d array was expected. Please change the shape of y to (n_samples,), for example using ravel().\n",
            "  \n"
          ]
        }
      ]
    },
    {
      "cell_type": "code",
      "source": [
        "rf.score(x_test,y_test)"
      ],
      "metadata": {
        "id": "FMAQzsM9J7Ll",
        "colab": {
          "base_uri": "https://localhost:8080/"
        },
        "outputId": "76bd4acb-46ec-49e4-9074-5e0a5267b82d"
      },
      "execution_count": null,
      "outputs": [
        {
          "output_type": "execute_result",
          "data": {
            "text/plain": [
              "0.9385307346326837"
            ]
          },
          "metadata": {},
          "execution_count": 11
        }
      ]
    },
    {
      "cell_type": "code",
      "source": [
        "print(classification_report(y_test,y_pred))"
      ],
      "metadata": {
        "id": "_S-CuBtWKErc",
        "colab": {
          "base_uri": "https://localhost:8080/"
        },
        "outputId": "4e2b0edd-da2f-48d6-8b24-8018cb531f3d"
      },
      "execution_count": null,
      "outputs": [
        {
          "output_type": "stream",
          "name": "stdout",
          "text": [
            "              precision    recall  f1-score   support\n",
            "\n",
            "           0       0.94      0.99      0.96       566\n",
            "           1       0.91      0.66      0.77       101\n",
            "\n",
            "    accuracy                           0.94       667\n",
            "   macro avg       0.92      0.83      0.87       667\n",
            "weighted avg       0.94      0.94      0.93       667\n",
            "\n"
          ]
        }
      ]
    },
    {
      "cell_type": "markdown",
      "source": [
        "Since there is less data we get poor score in order to increase the accuracy we use smoteen to over-sample the data or upscale the data."
      ],
      "metadata": {
        "id": "atSbbV4Tw947"
      }
    },
    {
      "cell_type": "code",
      "source": [
        "sm = SMOTEENN()\n",
        "x_resampled, y_resampled = sm.fit_resample(x,y)\n",
        "\n",
        "xf_train,xf_test,yf_train,yf_test=train_test_split(x_resampled, y_resampled,test_size=0.2)\n",
        "\n",
        "rfs = RandomForestClassifier()\n",
        "rfs.fit(xf_train,yf_train)\n",
        "yf_pred = rfs.predict(xf_test)"
      ],
      "metadata": {
        "id": "L-ys25seKQOZ"
      },
      "execution_count": null,
      "outputs": []
    },
    {
      "cell_type": "code",
      "source": [
        "rfs.score(xf_test,yf_test)"
      ],
      "metadata": {
        "id": "HiHCUGNnKhQS"
      },
      "execution_count": null,
      "outputs": []
    },
    {
      "cell_type": "code",
      "source": [
        "print(classification_report(yf_test,yf_pred))"
      ],
      "metadata": {
        "id": "4mv4yo_mKpcN"
      },
      "execution_count": null,
      "outputs": []
    },
    {
      "cell_type": "markdown",
      "source": [
        "We save the model as a pickle file."
      ],
      "metadata": {
        "id": "RdYaOJSLxrau"
      }
    },
    {
      "cell_type": "code",
      "source": [
        "filename = 'randomforest_sm.sav'\n",
        "pickle.dump(rfs, open(filename, 'wb'))"
      ],
      "metadata": {
        "id": "TsmF_NWBKvXH"
      },
      "execution_count": null,
      "outputs": []
    },
    {
      "cell_type": "markdown",
      "source": [
        "# **Naive Bayes Classifier**"
      ],
      "metadata": {
        "id": "ZC6h6dmcLmsJ"
      }
    },
    {
      "cell_type": "code",
      "source": [
        "nb = GaussianNB()\n",
        "nb.fit(x_train,y_train)\n",
        "y_pred = nb.predict(x_test)"
      ],
      "metadata": {
        "colab": {
          "base_uri": "https://localhost:8080/"
        },
        "id": "x2SO-YCQIrF3",
        "outputId": "cc026847-e582-491c-f9a6-93800ea412f6"
      },
      "execution_count": null,
      "outputs": [
        {
          "output_type": "stream",
          "name": "stderr",
          "text": [
            "/usr/local/lib/python3.7/dist-packages/sklearn/utils/validation.py:993: DataConversionWarning: A column-vector y was passed when a 1d array was expected. Please change the shape of y to (n_samples, ), for example using ravel().\n",
            "  y = column_or_1d(y, warn=True)\n"
          ]
        }
      ]
    },
    {
      "cell_type": "code",
      "source": [
        "nb.score(x_test,y_test)"
      ],
      "metadata": {
        "colab": {
          "base_uri": "https://localhost:8080/"
        },
        "id": "gemFGQ73JwIc",
        "outputId": "df9756fe-4ab6-482f-8d48-3151b4bac7d4"
      },
      "execution_count": null,
      "outputs": [
        {
          "output_type": "execute_result",
          "data": {
            "text/plain": [
              "0.8455772113943029"
            ]
          },
          "metadata": {},
          "execution_count": 18
        }
      ]
    },
    {
      "cell_type": "code",
      "source": [
        "print(classification_report(y_test,y_pred))"
      ],
      "metadata": {
        "colab": {
          "base_uri": "https://localhost:8080/"
        },
        "id": "-vSTcxecJyaC",
        "outputId": "04193fb1-16df-43ea-84fd-e23aac26dbba"
      },
      "execution_count": null,
      "outputs": [
        {
          "output_type": "stream",
          "name": "stdout",
          "text": [
            "              precision    recall  f1-score   support\n",
            "\n",
            "           0       0.90      0.92      0.91       566\n",
            "           1       0.49      0.43      0.46       101\n",
            "\n",
            "    accuracy                           0.85       667\n",
            "   macro avg       0.69      0.67      0.68       667\n",
            "weighted avg       0.84      0.85      0.84       667\n",
            "\n"
          ]
        }
      ]
    },
    {
      "cell_type": "markdown",
      "source": [
        "Since there is less data we get poor score in order to increase the accuracy we use smoteen to over-sample the data or upscale the data."
      ],
      "metadata": {
        "id": "5X4NBivMxAUu"
      }
    },
    {
      "cell_type": "code",
      "source": [
        "sm = SMOTEENN()\n",
        "x_resampled, y_resampled = sm.fit_resample(x,y)\n",
        "\n",
        "xb_train,xb_test,yb_train,yb_test=train_test_split(x_resampled, y_resampled,test_size=0.2)\n",
        "\n",
        "nbs = DecisionTreeClassifier()\n",
        "nbs.fit(xb_train,yb_train)\n",
        "yb_pred = nbs.predict(xb_test)"
      ],
      "metadata": {
        "id": "YjprskP_KErA"
      },
      "execution_count": null,
      "outputs": []
    },
    {
      "cell_type": "code",
      "source": [
        "nbs.score(xb_test,yb_test)"
      ],
      "metadata": {
        "colab": {
          "base_uri": "https://localhost:8080/"
        },
        "id": "bSWzm_eiKQrf",
        "outputId": "ea4fb546-6aec-4fdb-ef78-71c3a6eb5416"
      },
      "execution_count": null,
      "outputs": [
        {
          "output_type": "execute_result",
          "data": {
            "text/plain": [
              "0.9081015719467956"
            ]
          },
          "metadata": {},
          "execution_count": 24
        }
      ]
    },
    {
      "cell_type": "code",
      "source": [
        "print(classification_report(yb_test,yb_pred))"
      ],
      "metadata": {
        "colab": {
          "base_uri": "https://localhost:8080/"
        },
        "id": "ibVYsJqqKd9f",
        "outputId": "d90a2040-315c-4861-9c39-ebbb6a305610"
      },
      "execution_count": null,
      "outputs": [
        {
          "output_type": "stream",
          "name": "stdout",
          "text": [
            "              precision    recall  f1-score   support\n",
            "\n",
            "           0       0.89      0.89      0.89       353\n",
            "           1       0.92      0.92      0.92       474\n",
            "\n",
            "    accuracy                           0.91       827\n",
            "   macro avg       0.91      0.91      0.91       827\n",
            "weighted avg       0.91      0.91      0.91       827\n",
            "\n"
          ]
        }
      ]
    },
    {
      "cell_type": "markdown",
      "source": [
        "We save the model as a pickle file.\n"
      ],
      "metadata": {
        "id": "DRS_LPnaxgD5"
      }
    },
    {
      "cell_type": "code",
      "source": [
        "filename = 'naivebayes_sm.sav'\n",
        "pickle.dump(nbs, open(filename, 'wb'))"
      ],
      "metadata": {
        "id": "RBG8uo1sKrKA"
      },
      "execution_count": null,
      "outputs": []
    },
    {
      "cell_type": "markdown",
      "source": [
        "# **K-Nearest Neighbours**"
      ],
      "metadata": {
        "id": "7nJTN2Z5L_NI"
      }
    },
    {
      "cell_type": "code",
      "source": [
        "knn = KNeighborsClassifier()\n",
        "knn.fit(x_train,y_train)\n",
        "y_pred = knn.predict(x_test)"
      ],
      "metadata": {
        "id": "Uj0ZbjfnL-_G"
      },
      "execution_count": null,
      "outputs": []
    },
    {
      "cell_type": "code",
      "source": [
        "knn.score(x_test,y_test)"
      ],
      "metadata": {
        "id": "2bnjkjRLMkzt"
      },
      "execution_count": null,
      "outputs": []
    },
    {
      "cell_type": "code",
      "source": [
        "print(classification_report(y_test,y_pred))"
      ],
      "metadata": {
        "id": "rVsQqEpcMrQ7"
      },
      "execution_count": null,
      "outputs": []
    },
    {
      "cell_type": "markdown",
      "source": [
        "Since there is less data we get poor score in order to increase the accuracy we use smoteen to over-sample the data or upscale the data."
      ],
      "metadata": {
        "id": "IRvnw8-1xCO5"
      }
    },
    {
      "cell_type": "code",
      "source": [
        "sm = SMOTEENN()\n",
        "x_resampled, y_resampled = sm.fit_resample(x,y)\n",
        "\n",
        "xn_train,xn_test,yn_train,yn_test=train_test_split(x_resampled, y_resampled,test_size=0.2)\n",
        "\n",
        "knns = KNeighborsClassifier()\n",
        "knns.fit(xn_train,yn_train)\n",
        "yn_pred = knns.predict(xn_test)"
      ],
      "metadata": {
        "id": "vYMG1qcKMuq7"
      },
      "execution_count": null,
      "outputs": []
    },
    {
      "cell_type": "code",
      "source": [
        "knns.score(xn_test,yn_test)"
      ],
      "metadata": {
        "id": "kzSpD77uM8W7"
      },
      "execution_count": null,
      "outputs": []
    },
    {
      "cell_type": "code",
      "source": [
        "print(classification_report(yn_test,yn_pred))"
      ],
      "metadata": {
        "id": "ssAsbGZoNErC"
      },
      "execution_count": null,
      "outputs": []
    },
    {
      "cell_type": "markdown",
      "source": [
        "Since the score is so less we cannot use the model."
      ],
      "metadata": {
        "id": "K5nCSZEqxG_M"
      }
    },
    {
      "cell_type": "markdown",
      "source": [
        "# **Kernel SVM**"
      ],
      "metadata": {
        "id": "bqgFEnFRNioK"
      }
    },
    {
      "cell_type": "code",
      "source": [
        "svm = SVC()\n",
        "svm.fit(x_train,y_train)\n",
        "y_pred = svm.predict(x_test)"
      ],
      "metadata": {
        "id": "gZx64hRZNiSi"
      },
      "execution_count": null,
      "outputs": []
    },
    {
      "cell_type": "code",
      "source": [
        "svm.score(x_test,y_test)"
      ],
      "metadata": {
        "colab": {
          "base_uri": "https://localhost:8080/"
        },
        "id": "ufMNS9vhN48D",
        "outputId": "805c9b5d-6192-4603-c4ec-122e70e1ef94"
      },
      "execution_count": null,
      "outputs": [
        {
          "output_type": "execute_result",
          "data": {
            "text/plain": [
              "0.8515742128935532"
            ]
          },
          "metadata": {},
          "execution_count": 45
        }
      ]
    },
    {
      "cell_type": "code",
      "source": [
        "print(classification_report(y_test,y_pred))"
      ],
      "metadata": {
        "id": "f50m8MkKN76Z"
      },
      "execution_count": null,
      "outputs": []
    },
    {
      "cell_type": "markdown",
      "source": [
        "Since there is less data we get poor score in order to increase the accuracy we use smoteen to over-sample the data or upscale the data."
      ],
      "metadata": {
        "id": "zoiegukaxNIE"
      }
    },
    {
      "cell_type": "code",
      "source": [
        "sm = SMOTEENN()\n",
        "x_resampled, y_resampled = sm.fit_resample(x,y)\n",
        "\n",
        "xm_train,xm_test,ym_train,ym_test=train_test_split(x_resampled, y_resampled,test_size=0.2)\n",
        "\n",
        "svms = SVC()\n",
        "svms.fit(xm_train,ym_train)\n",
        "ym_pred = svms.predict(xm_test)"
      ],
      "metadata": {
        "id": "-9umOLs3OB5t"
      },
      "execution_count": null,
      "outputs": []
    },
    {
      "cell_type": "code",
      "source": [
        "svms.score(xm_test,ym_test)"
      ],
      "metadata": {
        "id": "benKaYSHOPmA"
      },
      "execution_count": null,
      "outputs": []
    },
    {
      "cell_type": "code",
      "source": [
        "print(classification_report(ym_test,ym_pred))"
      ],
      "metadata": {
        "id": "XU08po3wOT15"
      },
      "execution_count": null,
      "outputs": []
    },
    {
      "cell_type": "markdown",
      "source": [
        "Since the score is so less we cannot use the model."
      ],
      "metadata": {
        "id": "NlFTySXnxa7P"
      }
    },
    {
      "cell_type": "markdown",
      "source": [
        "# **Logistic Regression**"
      ],
      "metadata": {
        "id": "Lp2nfYn6O4Wn"
      }
    },
    {
      "cell_type": "code",
      "source": [
        "lr = LogisticRegression()\n",
        "lr.fit(x_train,y_train)\n",
        "y_pred = lr.predict(x_test)"
      ],
      "metadata": {
        "id": "7Me25ImZO4Hg"
      },
      "execution_count": null,
      "outputs": []
    },
    {
      "cell_type": "code",
      "source": [
        "lr.score(x_test,y_test)"
      ],
      "metadata": {
        "colab": {
          "base_uri": "https://localhost:8080/"
        },
        "id": "oWm3dLGRPK1d",
        "outputId": "b65e78c1-fad4-4d27-ee2c-6d992687fca6"
      },
      "execution_count": null,
      "outputs": [
        {
          "output_type": "execute_result",
          "data": {
            "text/plain": [
              "0.8515742128935532"
            ]
          },
          "metadata": {},
          "execution_count": 51
        }
      ]
    },
    {
      "cell_type": "code",
      "source": [
        "print(classification_report(y_test,y_pred))"
      ],
      "metadata": {
        "id": "oCcQTD52PP3C"
      },
      "execution_count": null,
      "outputs": []
    },
    {
      "cell_type": "markdown",
      "source": [
        "Since there is less data we get poor score in order to increase the accuracy we use smoteen to over-sample the data or upscale the data."
      ],
      "metadata": {
        "id": "VGvAMqznxO2i"
      }
    },
    {
      "cell_type": "code",
      "source": [
        "sm = SMOTEENN()\n",
        "x_resampled, y_resampled = sm.fit_resample(x,y)\n",
        "\n",
        "xr_train,xr_test,yr_train,yr_test=train_test_split(x_resampled, y_resampled,test_size=0.2)\n",
        "\n",
        "lrs = SVC()\n",
        "lrs.fit(xr_train,yr_train)\n",
        "yr_pred = lrs.predict(xr_test)"
      ],
      "metadata": {
        "colab": {
          "base_uri": "https://localhost:8080/"
        },
        "id": "ccEjajEJPRSL",
        "outputId": "b4164324-03eb-4a8b-c505-e3aa1eb6db8a"
      },
      "execution_count": null,
      "outputs": [
        {
          "output_type": "stream",
          "name": "stderr",
          "text": [
            "/usr/local/lib/python3.7/dist-packages/sklearn/utils/validation.py:993: DataConversionWarning: A column-vector y was passed when a 1d array was expected. Please change the shape of y to (n_samples, ), for example using ravel().\n",
            "  y = column_or_1d(y, warn=True)\n"
          ]
        }
      ]
    },
    {
      "cell_type": "code",
      "source": [
        "lrs.score(xr_test,yr_test)"
      ],
      "metadata": {
        "id": "NBMiMhogPdRo"
      },
      "execution_count": null,
      "outputs": []
    },
    {
      "cell_type": "code",
      "source": [
        "print(classification_report(yr_test,yr_pred))"
      ],
      "metadata": {
        "id": "_pm1HDkNPkF0"
      },
      "execution_count": null,
      "outputs": []
    },
    {
      "cell_type": "markdown",
      "source": [
        "Since the score is so less we cannot use the model."
      ],
      "metadata": {
        "id": "x1KCrNI0xQNk"
      }
    }
  ]
}